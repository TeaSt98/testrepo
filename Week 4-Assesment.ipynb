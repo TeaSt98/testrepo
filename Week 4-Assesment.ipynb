{
 "cells": [
  {
   "cell_type": "markdown",
   "metadata": {
    "collapsed": true
   },
   "source": [
    "# My Jupyter Notebook on IBM Watson Studio"
   ]
  },
  {
   "cell_type": "markdown",
   "metadata": {},
   "source": [
    "**Teodora Stevanovska**\n",
    "<br>\n",
    "Analyst - Big Data & Analytics"
   ]
  },
  {
   "cell_type": "markdown",
   "metadata": {},
   "source": [
    "*I am interested in data science because I studied mathematics and I can apply my mathematical knowledge to this. It is really interesting for me how there is so much hidden information in data that is just waiting to be revealed. Since data science enables us to do that, I really find it interesting.*"
   ]
  },
  {
   "cell_type": "markdown",
   "metadata": {},
   "source": [
    "### The following code calculates the difference between 150 and 50"
   ]
  },
  {
   "cell_type": "code",
   "execution_count": 3,
   "metadata": {},
   "outputs": [
    {
     "data": {
      "text/plain": [
       "100"
      ]
     },
     "execution_count": 3,
     "metadata": {},
     "output_type": "execute_result"
    }
   ],
   "source": [
    "150-50"
   ]
  },
  {
   "cell_type": "markdown",
   "metadata": {},
   "source": [
    "Here we will try a few of the markdown options.\n",
    "\n",
    "*** \n",
    "\n",
    "This is a bullet list:\n",
    "* bullet 1\n",
    "* bullet 2\n",
    "* bullet 3\n",
    "\n",
    "This is a numbered list:\n",
    "1. item 1\n",
    "2. item 2\n",
    "3. item 3\n",
    "\n",
    "This is a table:\n",
    "<br>\n",
    "\n",
    "| Column 1 | Column 2 | Column 3 |\n",
    "| --- | --- | --- |\n",
    "| 1 | 2 | 3 |\n",
    "\n",
    "This is a hyperlink:\n",
    "[www.ibm.com](https://www.ibm.com/de-de)\n",
    "\n",
    "> This is a blocked quote.\n",
    "\n",
    "~~This is a strikethrough.~~\n",
    "\n",
    "```python\n",
    "s = \"This is a Python synta highlighting.\"\n",
    "print s\n",
    "```"
   ]
  },
  {
   "cell_type": "markdown",
   "metadata": {},
   "source": []
  },
  {
   "cell_type": "code",
   "execution_count": null,
   "metadata": {},
   "outputs": [],
   "source": []
  }
 ],
 "metadata": {
  "kernelspec": {
   "display_name": "Python 3.9",
   "language": "python",
   "name": "python3"
  },
  "language_info": {
   "codemirror_mode": {
    "name": "ipython",
    "version": 3
   },
   "file_extension": ".py",
   "mimetype": "text/x-python",
   "name": "python",
   "nbconvert_exporter": "python",
   "pygments_lexer": "ipython3",
   "version": "3.9.12"
  }
 },
 "nbformat": 4,
 "nbformat_minor": 1
}
